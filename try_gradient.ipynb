{
 "cells": [
  {
   "cell_type": "markdown",
   "id": "56881d8b",
   "metadata": {},
   "source": [
    "# Lesson 3 (fast.ai 2022): Gradient Descent Function\n",
    "\n",
    "As an excercise to make sure I understood how the code for gradient descent works, I tried packaging the gradient descent code in the first part of the [lesson](https://www.youtube.com/watch?v=hBBOjCiFcuo) into a re-usable `gradient_descent` method. \n",
    "\n",
    "Then below, I try using the `gradient_descent` with various functions, plotting the results for each step into a graph. \n",
    "\n",
    "**Please note that I am a complete Python (and AI) noob so some things might be strange / non-standard.**\n",
    "\n",
    "Also as of writing this, I have not watched the excel part after the 'break'."
   ]
  },
  {
   "cell_type": "markdown",
   "id": "aa50f393",
   "metadata": {},
   "source": [
    "## Gradient Descent Function\n",
    "\n",
    "This is the code for the gradient_descent function. It receives all required input as parameters. The Lesson's notebook uses many variables in the outer (global?) scope, so it was a bit hard for me to keep track of what variable came from where. By having all required input passed in as parameters, it was easier to follow (for me at least)."
   ]
  },
  {
   "cell_type": "code",
   "execution_count": 1,
   "id": "c54f9c24-b4f3-4ae2-90ee-08288de2c67d",
   "metadata": {},
   "outputs": [],
   "source": [
    "from ipywidgets import interact, FloatSlider\n",
    "import numpy as np\n",
    "from numpy.random import normal, seed, uniform\n",
    "from functools import partial\n",
    "\n",
    "import torch\n",
    "import matplotlib.pyplot as plt\n",
    "\n",
    "# loss functions, can use \"mean squared error\" or \"mean absolute error\". \n",
    "# From my tests it seemed mse might be faster\n",
    "\n",
    "def mse(preds, acts): \n",
    "    return ((preds-acts)**2).mean()\n",
    "\n",
    "def mae(preds, acts):\n",
    "    return (torch.abs(preds-acts)).mean()\n",
    "\n",
    "# utility function for gradient_descent\n",
    "# gets loss of predicted values using current parameter values\n",
    "def _get_predicted_loss(get_predicted_y_fn, current_params, x_values, act_y_values, loss_function):\n",
    "    predicted_y_values = get_predicted_y_fn(*current_params)(x_values)\n",
    "    with torch.no_grad():\n",
    "        plt.plot(x_values, predicted_y_values) # plot latest result\n",
    "    return loss_function(predicted_y_values, act_y_values)\n",
    "\n",
    "# do gradient descent, returns resulting params\n",
    "# can specify loss function to use\n",
    "def gradient_descent(x_values, act_y_values, get_predicted_y_fn, start_params, steps, learning_rate, loss_function=mse):\n",
    "    current_params = start_params\n",
    "    current_params.requires_grad_()\n",
    "    for i in range(steps):\n",
    "        # get_predicted_loss will get the loss using the supplied get_predicted_y_fn and x/y values\n",
    "        loss = _get_predicted_loss(get_predicted_y_fn, current_params, x_values, act_y_values, loss_function)\n",
    "        loss.backward()\n",
    "        with torch.no_grad():\n",
    "            current_params -= current_params.grad * learning_rate\n",
    "        current_params.grad.zero_() # from testing, this is needed\n",
    "    return current_params\n",
    "\n",
    "######################################################\n",
    "\n",
    "# utility noise methods for later\n",
    "\n",
    "def noise(x, scale): return np.random.normal(scale=scale, size=x.shape)\n",
    "def add_noise(x, mult, add): return x * (1+noise(x, mult)) + noise(x, add)\n"
   ]
  },
  {
   "cell_type": "markdown",
   "id": "f7cd10c6",
   "metadata": {},
   "source": [
    "## Test Gradient Descent with Quadratic Function\n",
    "\n",
    "Code below defines the quadratic function and uses the `gradient_descent` method to try to find the correct parameters.\n",
    "\n",
    "The slider bars can be used to try changing the actual [a, b, c] values, the starting [a, b, c] values, the learning steps, and the learning rate.\n",
    "\n",
    "Each line on the graph corresponds to the results of a step.\n",
    "\n",
    "**Try playing around with all the sliders!**\n",
    "\n",
    "It is quite magical how whatever the target and wherever it starts from it gradually converges onto the correct values!"
   ]
  },
  {
   "cell_type": "code",
   "execution_count": 2,
   "id": "e263fdbf",
   "metadata": {},
   "outputs": [
    {
     "data": {
      "application/vnd.jupyter.widget-view+json": {
       "model_id": "5a22e74934474c8687551259a5191e4a",
       "version_major": 2,
       "version_minor": 0
      },
      "text/plain": [
       "interactive(children=(FloatSlider(value=3.0, description='a', max=9.0, min=-3.0), FloatSlider(value=2.0, descr…"
      ]
     },
     "metadata": {},
     "output_type": "display_data"
    }
   ],
   "source": [
    "# define quad and mk_quad\n",
    "def quad(a, b, c, x): return a*x**2 + b*x + c\n",
    "def mk_quad(a, b, c): return partial(quad, a, b, c)\n",
    "\n",
    "np.random.seed(42)\n",
    "\n",
    "# create input x values\n",
    "quad_x = torch.linspace(-2, 2, steps=20)[:, None]\n",
    "\n",
    "@interact(a=3.0, b=2.0, c=1.0, start_a=1.1, start_b=1.1, start_c=1.1, steps=30, learning_rate=FloatSlider(min=0.01, max=0.1, step=0.01, value=0.05))\n",
    "def test_gd_quad(a, b, c, start_a, start_b, start_c, steps, learning_rate):\n",
    "    # create actual y values with some noise\n",
    "    quad_y = add_noise(mk_quad(a, b, c)(quad_x), 0.01, 0.2)\n",
    "\n",
    "    # scatter plot the input x and actual y values\n",
    "    plt.scatter(quad_x, quad_y)\n",
    "\n",
    "    # prepare the starting params\n",
    "    params = torch.tensor([start_a, start_b, start_c])\n",
    "\n",
    "    # we call the gradient descent function\n",
    "    # we pass\n",
    "    # - our input x and actual y values\n",
    "    # - mk_quad method\n",
    "    # - the starting params (starting a, b, c values)\n",
    "    # - how many steps we want it to do the gradient descent\n",
    "    # - the learning rate used\n",
    "    # - the loss function which is set to mse (you can try mae if you want)\n",
    "    # the return value is the result params ie. the guessed values of [a, b, c]\n",
    "    result_params = gradient_descent(quad_x, quad_y, mk_quad, params, steps, learning_rate, loss_function=mse)\n",
    "\n",
    "    plt.title(result_params)\n"
   ]
  },
  {
   "cell_type": "markdown",
   "id": "c780327d",
   "metadata": {},
   "source": [
    "## Test Gradient Descent with Linear Function\n",
    "\n",
    "Same thing, but we test it with the linear function."
   ]
  },
  {
   "cell_type": "code",
   "execution_count": 3,
   "id": "6007d89e",
   "metadata": {},
   "outputs": [
    {
     "data": {
      "application/vnd.jupyter.widget-view+json": {
       "model_id": "4bb6cee51b094fc89baaebc25476bcfd",
       "version_major": 2,
       "version_minor": 0
      },
      "text/plain": [
       "interactive(children=(FloatSlider(value=5.0, description='m', max=15.0, min=-5.0), FloatSlider(value=-2.0, des…"
      ]
     },
     "metadata": {},
     "output_type": "display_data"
    }
   ],
   "source": [
    "def linear(m, b, x): return m*x + b\n",
    "def mk_linear(m, b): return partial(linear, m, b)\n",
    "\n",
    "np.random.seed(42)\n",
    "\n",
    "linear_x = torch.linspace(-2, 2, steps=20)[:, None]\n",
    "\n",
    "@interact(m=5.0, b=-2.0, start_m=1.1, start_b=1.1, steps=30, learning_rate=FloatSlider(min=0.01, max=0.1, step=0.01, value=0.05))\n",
    "def test_gd_linear(m, b, start_m, start_b, steps, learning_rate):\n",
    "    linear_y = add_noise(mk_linear(m, b)(linear_x), 0.01, 1)\n",
    "    plt.scatter(linear_x, linear_y)\n",
    "    params = torch.tensor([start_m, start_b])\n",
    "    result_params = gradient_descent(\n",
    "        linear_x, linear_y, mk_linear, params, steps, learning_rate, loss_function=mse)\n",
    "    plt.title(result_params)\n"
   ]
  },
  {
   "cell_type": "markdown",
   "id": "75269b82",
   "metadata": {},
   "source": [
    "## Test Gradient Descent with Rectified Linear Function\n",
    "\n",
    "It seems the rectified linear function takes more steps (or maybe it's just my starting parameters)."
   ]
  },
  {
   "cell_type": "code",
   "execution_count": 4,
   "id": "36261546",
   "metadata": {},
   "outputs": [
    {
     "data": {
      "application/vnd.jupyter.widget-view+json": {
       "model_id": "c7519828a0984de6b078b29189fee2a0",
       "version_major": 2,
       "version_minor": 0
      },
      "text/plain": [
       "interactive(children=(FloatSlider(value=8.0, description='m', max=24.0, min=-8.0), FloatSlider(value=2.0, desc…"
      ]
     },
     "metadata": {},
     "output_type": "display_data"
    }
   ],
   "source": [
    "def relu(m,b,x):\n",
    "    y = m*x+b\n",
    "    return torch.clip(y, 0.)\n",
    "\n",
    "def mk_relu(m, b): return partial(relu, m, b)\n",
    "\n",
    "\n",
    "np.random.seed(42)\n",
    "\n",
    "relu_x = torch.linspace(-2, 2, steps=20)[:, None]\n",
    "\n",
    "@interact(m=8.0, b=2.0, start_m=5.0, start_b=-2.0, steps=30, learning_rate=FloatSlider(min=0.01, max=0.1, step=0.01, value=0.05))\n",
    "def test_gd_relu(m, b, start_m, start_b, steps, learning_rate):\n",
    "    relu_y = add_noise(mk_relu(m, b)(relu_x), 0.01, 0.2)\n",
    "    plt.scatter(relu_x, relu_y)\n",
    "    params = torch.tensor([start_m, start_b])\n",
    "    result_params = gradient_descent(\n",
    "        relu_x, relu_y, mk_relu, params, steps, learning_rate, loss_function=mse)\n",
    "    plt.title(result_params)\n"
   ]
  },
  {
   "cell_type": "markdown",
   "id": "0be925bd",
   "metadata": {},
   "source": [
    "## Test Gradient Descent with Double Rectified Linear Function\n",
    "\n",
    "And I also tried it out with the double rectified linear function! Takes a lot more steps to get close to the actual values, but it is pretty cool!"
   ]
  },
  {
   "cell_type": "code",
   "execution_count": 5,
   "id": "43b8f161",
   "metadata": {},
   "outputs": [
    {
     "data": {
      "application/vnd.jupyter.widget-view+json": {
       "model_id": "d69fa522439748b5a8d6cc350e2ee2b7",
       "version_major": 2,
       "version_minor": 0
      },
      "text/plain": [
       "interactive(children=(FloatSlider(value=3.0, description='m1', max=9.0, min=-3.0), FloatSlider(value=3.0, desc…"
      ]
     },
     "metadata": {},
     "output_type": "display_data"
    }
   ],
   "source": [
    "def double_relu(m1,b1,m2,b2,x):\n",
    "    return relu(m1,b1,x) + relu(m2,b2,x)\n",
    "    #return linear(m1, b1, x) + linear(m2, b2, x)\n",
    "\n",
    "def mk_double_relu(m1, b1, m2, b2): return partial(double_relu, m1, b1, m2, b2)\n",
    "\n",
    "np.random.seed(42)\n",
    "\n",
    "double_relu_x = torch.linspace(-10, 10, steps=40)[:, None]\n",
    "\n",
    "\n",
    "@interact(m1=3.0, b1=3.0, m2=-5, b2=12.0, start_m1=5.0, start_b1=-2.0, start_m2=1.1, start_b2=1.1, steps=300, learning_rate=FloatSlider(min=0.01, max=0.1, step=0.01, value=0.04))\n",
    "def test_gd_double_relu(m1, b1, m2, b2, start_m1, start_b1, start_m2, start_b2, steps, learning_rate):\n",
    "    double_relu_y = add_noise(mk_double_relu(m1, b1, m2, b2)(double_relu_x), 0.01, 0.3)\n",
    "    plt.scatter(double_relu_x, double_relu_y)\n",
    "    params = torch.tensor([start_m1, start_b1, start_m2, start_b2])\n",
    "    result_params = gradient_descent(\n",
    "        double_relu_x, double_relu_y, mk_double_relu, params, steps, learning_rate, loss_function=mse)\n",
    "    plt.title(result_params)\n"
   ]
  },
  {
   "cell_type": "code",
   "execution_count": null,
   "id": "dd2dabbd",
   "metadata": {},
   "outputs": [],
   "source": []
  }
 ],
 "metadata": {
  "kernelspec": {
   "display_name": "Python 3",
   "language": "python",
   "name": "python3"
  },
  "language_info": {
   "codemirror_mode": {
    "name": "ipython",
    "version": 3
   },
   "file_extension": ".py",
   "mimetype": "text/x-python",
   "name": "python",
   "nbconvert_exporter": "python",
   "pygments_lexer": "ipython3",
   "version": "3.8.13"
  },
  "vscode": {
   "interpreter": {
    "hash": "3770d5757bc4ea57f189ca057d7ef1faf721d15ea5abab167c3a09c6e5d5c0b8"
   }
  },
  "widgets": {
   "application/vnd.jupyter.widget-state+json": {
    "state": {
     "064e33d52998421db1802917f1ab5054": {
      "model_module": "@jupyter-widgets/base",
      "model_module_version": "1.2.0",
      "model_name": "LayoutModel",
      "state": {}
     },
     "0dd9e789b8d94021a3195a437f1c103b": {
      "model_module": "@jupyter-widgets/controls",
      "model_module_version": "1.5.0",
      "model_name": "FloatSliderModel",
      "state": {
       "description": "a",
       "layout": "IPY_MODEL_76bd691811654417b1e7547a3ee41066",
       "max": 4.5,
       "min": -1.5,
       "step": 0.1,
       "style": "IPY_MODEL_62662df169e7465f959f766a4826829b",
       "value": 1.5
      }
     },
     "1e0da73417a8450aaea88be86f60bee9": {
      "model_module": "@jupyter-widgets/controls",
      "model_module_version": "1.5.0",
      "model_name": "SliderStyleModel",
      "state": {
       "description_width": ""
      }
     },
     "3458504a5bd5482ba37f87153f2628f7": {
      "model_module": "@jupyter-widgets/base",
      "model_module_version": "1.2.0",
      "model_name": "LayoutModel",
      "state": {}
     },
     "62662df169e7465f959f766a4826829b": {
      "model_module": "@jupyter-widgets/controls",
      "model_module_version": "1.5.0",
      "model_name": "SliderStyleModel",
      "state": {
       "description_width": ""
      }
     },
     "65e21845a531421e8670589366e3bd97": {
      "model_module": "@jupyter-widgets/base",
      "model_module_version": "1.2.0",
      "model_name": "LayoutModel",
      "state": {}
     },
     "6d032677944042d99bbf7f02432523bf": {
      "model_module": "@jupyter-widgets/controls",
      "model_module_version": "1.5.0",
      "model_name": "VBoxModel",
      "state": {
       "_dom_classes": [
        "widget-interact"
       ],
       "children": [
        "IPY_MODEL_0dd9e789b8d94021a3195a437f1c103b",
        "IPY_MODEL_d08866dea8a543fda189b9e3c5f5051e",
        "IPY_MODEL_f5d57894b85d494aa34d63447f11907b",
        "IPY_MODEL_c828cce917ad4d3fa196a61313ecccff"
       ],
       "layout": "IPY_MODEL_65e21845a531421e8670589366e3bd97"
      }
     },
     "76bd691811654417b1e7547a3ee41066": {
      "model_module": "@jupyter-widgets/base",
      "model_module_version": "1.2.0",
      "model_name": "LayoutModel",
      "state": {}
     },
     "b3a702fbc108459cb34c33dbef8c4a83": {
      "model_module": "@jupyter-widgets/controls",
      "model_module_version": "1.5.0",
      "model_name": "SliderStyleModel",
      "state": {
       "description_width": ""
      }
     },
     "c828cce917ad4d3fa196a61313ecccff": {
      "model_module": "@jupyter-widgets/output",
      "model_module_version": "1.0.0",
      "model_name": "OutputModel",
      "state": {
       "layout": "IPY_MODEL_d6c4517b196a4842a3be0518b21a62f7",
       "outputs": [
        {
         "data": {
          "image/png": "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\n",
          "text/plain": "<Figure size 432x288 with 1 Axes>"
         },
         "metadata": {
          "needs_background": "light"
         },
         "output_type": "display_data"
        }
       ]
      }
     },
     "d08866dea8a543fda189b9e3c5f5051e": {
      "model_module": "@jupyter-widgets/controls",
      "model_module_version": "1.5.0",
      "model_name": "FloatSliderModel",
      "state": {
       "description": "b",
       "layout": "IPY_MODEL_3458504a5bd5482ba37f87153f2628f7",
       "max": 4.5,
       "min": -1.5,
       "step": 0.1,
       "style": "IPY_MODEL_1e0da73417a8450aaea88be86f60bee9",
       "value": 1.5
      }
     },
     "d6c4517b196a4842a3be0518b21a62f7": {
      "model_module": "@jupyter-widgets/base",
      "model_module_version": "1.2.0",
      "model_name": "LayoutModel",
      "state": {}
     },
     "f5d57894b85d494aa34d63447f11907b": {
      "model_module": "@jupyter-widgets/controls",
      "model_module_version": "1.5.0",
      "model_name": "FloatSliderModel",
      "state": {
       "description": "c",
       "layout": "IPY_MODEL_064e33d52998421db1802917f1ab5054",
       "max": 4.5,
       "min": -1.5,
       "step": 0.1,
       "style": "IPY_MODEL_b3a702fbc108459cb34c33dbef8c4a83",
       "value": 1.5
      }
     }
    },
    "version_major": 2,
    "version_minor": 0
   }
  }
 },
 "nbformat": 4,
 "nbformat_minor": 5
}
